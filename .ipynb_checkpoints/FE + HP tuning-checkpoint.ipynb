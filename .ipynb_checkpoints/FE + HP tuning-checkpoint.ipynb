{
 "cells": [
  {
   "cell_type": "markdown",
   "metadata": {},
   "source": [
    "<h3>Loading data</h3>"
   ]
  },
  {
   "cell_type": "code",
   "execution_count": 1,
   "metadata": {},
   "outputs": [],
   "source": [
    "import pandas as pd\n",
    "import numpy as np\n",
    "import matplotlib.pyplot as plt\n",
    "\n",
    "import xgboost as xgb\n",
    "\n",
    "from sklearn.model_selection import TimeSeriesSplit, cross_val_score\n",
    "from sklearn.preprocessing import LabelEncoder\n",
    "from sklearn.metrics import mean_squared_log_error\n",
    "from sklearn.metrics.scorer import make_scorer\n",
    "\n",
    "import warnings\n",
    "warnings.filterwarnings(\"ignore\")"
   ]
  },
  {
   "cell_type": "code",
   "execution_count": 2,
   "metadata": {},
   "outputs": [],
   "source": [
    "FULFILLEMENT_CENTER = 'input/fulfilment_center_info.csv'\n",
    "MEAL_INFO = 'input/meal_info.csv'\n",
    "TRAIN = 'input/train.csv'"
   ]
  },
  {
   "cell_type": "code",
   "execution_count": 3,
   "metadata": {},
   "outputs": [],
   "source": [
    "TEST = 'input/test.csv'\n",
    "SAMPLE_SUBMISSION = 'input/sample_submission.csv'"
   ]
  },
  {
   "cell_type": "code",
   "execution_count": 4,
   "metadata": {},
   "outputs": [],
   "source": [
    "df = pd.read_csv(TRAIN)\n",
    "meal_df = pd.read_csv(MEAL_INFO)\n",
    "fulfillement_center_df = pd.read_csv(FULFILLEMENT_CENTER)"
   ]
  },
  {
   "cell_type": "code",
   "execution_count": 5,
   "metadata": {},
   "outputs": [],
   "source": [
    "test_df = pd.read_csv(TEST)"
   ]
  },
  {
   "cell_type": "code",
   "execution_count": 6,
   "metadata": {},
   "outputs": [],
   "source": [
    "# Merging \n",
    "\n",
    "tmp_df = pd.merge(df, meal_df, how='left', on='meal_id')\n",
    "df = pd.merge(tmp_df, fulfillement_center_df, how='left', on='center_id')\n",
    "\n",
    "test_df = pd.merge(test_df, meal_df, how='left', on=\"meal_id\")\n",
    "test_df = pd.merge(test_df, fulfillement_center_df, how='left', on='center_id')\n",
    "\n",
    "del tmp_df, fulfillement_center_df, meal_df"
   ]
  },
  {
   "cell_type": "markdown",
   "metadata": {},
   "source": [
    "<h3>Feature engineering</h3>"
   ]
  },
  {
   "cell_type": "code",
   "execution_count": 8,
   "metadata": {},
   "outputs": [],
   "source": [
    "def interaction_features(df):\n",
    "    df[\"base_over_checkout\"] = df['base_price'] / df['checkout_price']\n",
    "    df['center_meal_id'] = df['center_id'].astype(str) + '_' + df['meal_id'].astype(str)\n",
    "    df['prom+homepage'] = df['emailer_for_promotion'].astype(str) + '_' + df['homepage_featured'].astype(str)\n",
    "    \n",
    "    return df"
   ]
  },
  {
   "cell_type": "code",
   "execution_count": 9,
   "metadata": {},
   "outputs": [],
   "source": [
    "def lagging_features(df):\n",
    "    \n",
    "    windows = [2, 4, 15, 30, 52]\n",
    "    \n",
    "    for w in windows:  \n",
    "        print(f'Generating features with {w}-week time frame')\n",
    "        \n",
    "        df[f'avg_past_checkout_price_{w}'] = df.groupby(['center_id', 'meal_id'])['checkout_price'].shift(w-1).rolling(w).mean()\n",
    "        df[f'avg_past_base_price_{w}'] = df.groupby(['center_id', 'meal_id'])['base_price'].shift(w-1).rolling(w).mean()\n",
    "\n",
    "        df[f'std_past_checkout_price_{w}'] = df.groupby(['center_id', 'meal_id'])['checkout_price'].shift(w-1).rolling(w).std()\n",
    "        df[f'std_past_base_price_{w}'] = df.groupby(['center_id', 'meal_id'])['base_price'].shift(w-1).rolling(w).std()\n",
    "        \n",
    "        df[f'min_past_checkout_price_{w}'] = df.groupby(['center_id', 'meal_id'])['checkout_price'].shift(w-1).rolling(w).min()\n",
    "        df[f'min_past_base_price_{w}'] = df.groupby(['center_id', 'meal_id'])['base_price'].shift(w-1).rolling(w).min()\n",
    "        \n",
    "        df[f'max_past_checkout_price_{w}'] = df.groupby(['center_id', 'meal_id'])['checkout_price'].shift(w-1).rolling(w).max()\n",
    "        df[f'max_past_base_price_{w}'] = df.groupby(['center_id', 'meal_id'])['base_price'].shift(w-1).rolling(w).max()\n",
    "        \n",
    "        df[f'has_been_promoted_{w}'] = df.groupby(['meal_id'])['emailer_for_promotion'].shift(w-1).rolling(w).sum()\n",
    "        df[f'has_been_featured_{w}'] = df.groupby(['meal_id'])['homepage_featured'].shift(w-1).rolling(w).sum()\n",
    "        \n",
    "        df[f'avg_num_orders_lag_{w}'] = df.groupby(['center_id', 'meal_id'])['num_orders'].shift(w-1).rolling(w).mean()\n",
    "        df[f'std_num_orders_lag_{w}'] = df.groupby(['center_id', 'meal_id'])['num_orders'].shift(w-1).rolling(w).std()\n",
    "        df[f'min_num_orders_lag_{w}'] = df.groupby(['center_id', 'meal_id'])['num_orders'].shift(w-1).rolling(w).min()\n",
    "        df[f'max_num_orders_lag_{w}'] = df.groupby(['center_id', 'meal_id'])['num_orders'].shift(w-1).rolling(w).max()\n",
    "        \n",
    "        df[f'num_orders_lag_{w}'] = df.groupby(['center_id', 'meal_id'])['num_orders'].shift(w)\n",
    "        \n",
    "    return df"
   ]
  },
  {
   "cell_type": "code",
   "execution_count": 10,
   "metadata": {},
   "outputs": [
    {
     "name": "stdout",
     "output_type": "stream",
     "text": [
      "Generating features with 2-week time frame\n",
      "Generating features with 4-week time frame\n",
      "Generating features with 15-week time frame\n",
      "Generating features with 30-week time frame\n",
      "Generating features with 52-week time frame\n",
      "Generating features with 2-week time frame\n",
      "Generating features with 4-week time frame\n",
      "Generating features with 15-week time frame\n",
      "Generating features with 30-week time frame\n",
      "Generating features with 52-week time frame\n"
     ]
    }
   ],
   "source": [
    "df = lagging_features(df)\n",
    "test_df = lagging_features(df)"
   ]
  },
  {
   "cell_type": "code",
   "execution_count": 11,
   "metadata": {},
   "outputs": [],
   "source": [
    "df = interaction_features(df)\n",
    "test_df = interaction_features(test_df)"
   ]
  },
  {
   "cell_type": "markdown",
   "metadata": {},
   "source": [
    "<h3>Preprocessing</h3>"
   ]
  },
  {
   "cell_type": "code",
   "execution_count": 12,
   "metadata": {},
   "outputs": [],
   "source": [
    "def encode_categorical_features(df):\n",
    "    cat_var = ['category', 'cuisine', 'center_type', 'center_meal_id', 'prom+homepage']\n",
    "\n",
    "    le = LabelEncoder()\n",
    "\n",
    "    for c in cat_var:\n",
    "        df[c] = le.fit_transform(df[c])\n",
    "        \n",
    "    return df"
   ]
  },
  {
   "cell_type": "code",
   "execution_count": 13,
   "metadata": {},
   "outputs": [],
   "source": [
    "df = encode_categorical_features(df)\n",
    "test_df = encode_categorical_features(df)"
   ]
  },
  {
   "cell_type": "markdown",
   "metadata": {},
   "source": [
    "<h3>Modelling</h3>"
   ]
  },
  {
   "cell_type": "code",
   "execution_count": 14,
   "metadata": {},
   "outputs": [],
   "source": [
    "def rmsle(y_true, y_pred):\n",
    "    return 'RMSLE', np.sqrt(np.mean(np.power(np.log1p(y_pred) - np.log1p(y_true), 2))) * 100, False"
   ]
  },
  {
   "cell_type": "code",
   "execution_count": 15,
   "metadata": {},
   "outputs": [],
   "source": [
    "tscv = TimeSeriesSplit(n_splits=5)"
   ]
  },
  {
   "cell_type": "code",
   "execution_count": 16,
   "metadata": {},
   "outputs": [],
   "source": [
    "y = df['num_orders']\n",
    "y = np.log1p(y)\n",
    "X = df.drop(['id', 'num_orders'], axis=1)\n",
    "\n",
    "X_test = test_df.drop(['id', 'num_orders'], axis=1)"
   ]
  },
  {
   "cell_type": "code",
   "execution_count": 17,
   "metadata": {},
   "outputs": [],
   "source": [
    "# Quich check\n",
    "\n",
    "assert((X.columns == X_test.columns).all()), 'columns are not the same'"
   ]
  },
  {
   "cell_type": "code",
   "execution_count": 18,
   "metadata": {},
   "outputs": [],
   "source": [
    "X_test = X_test.values"
   ]
  },
  {
   "cell_type": "code",
   "execution_count": 19,
   "metadata": {},
   "outputs": [
    {
     "name": "stdout",
     "output_type": "stream",
     "text": [
      "[11:36:07] WARNING: /tmp/xgboost-20191007-44032-1f3rb3e/src/objective/regression_obj.cu:152: reg:linear is now deprecated in favor of reg:squarederror.\n",
      "[0]\tvalidation_0-mae:3.97436\n",
      "Will train until validation_0-mae hasn't improved in 5 rounds.\n",
      "[20]\tvalidation_0-mae:0.670372\n",
      "[40]\tvalidation_0-mae:0.45175\n",
      "[60]\tvalidation_0-mae:0.433287\n",
      "[80]\tvalidation_0-mae:0.428621\n",
      "[99]\tvalidation_0-mae:0.425338\n",
      "\n",
      "\n",
      "Evaluating model...\n",
      "The rmsle of prediction is: 55.43975597802756\n",
      "\n",
      "\n",
      "Predicting test set...\n",
      "\n",
      "\n",
      "[11:36:38] WARNING: /tmp/xgboost-20191007-44032-1f3rb3e/src/objective/regression_obj.cu:152: reg:linear is now deprecated in favor of reg:squarederror.\n",
      "[0]\tvalidation_0-mae:3.95847\n",
      "Will train until validation_0-mae hasn't improved in 5 rounds.\n",
      "[20]\tvalidation_0-mae:0.676971\n",
      "[40]\tvalidation_0-mae:0.459891\n",
      "[60]\tvalidation_0-mae:0.444933\n",
      "Stopping. Best iteration:\n",
      "[67]\tvalidation_0-mae:0.443019\n",
      "\n",
      "\n",
      "\n",
      "Evaluating model...\n",
      "The rmsle of prediction is: 57.116165372941786\n",
      "\n",
      "\n",
      "Predicting test set...\n",
      "\n",
      "\n",
      "[11:37:24] WARNING: /tmp/xgboost-20191007-44032-1f3rb3e/src/objective/regression_obj.cu:152: reg:linear is now deprecated in favor of reg:squarederror.\n",
      "[0]\tvalidation_0-mae:3.93523\n",
      "Will train until validation_0-mae hasn't improved in 5 rounds.\n",
      "[20]\tvalidation_0-mae:0.637794\n",
      "[40]\tvalidation_0-mae:0.425568\n",
      "[60]\tvalidation_0-mae:0.414021\n",
      "[80]\tvalidation_0-mae:0.409688\n",
      "[99]\tvalidation_0-mae:0.406908\n",
      "\n",
      "\n",
      "Evaluating model...\n",
      "The rmsle of prediction is: 52.79292723186712\n",
      "\n",
      "\n",
      "Predicting test set...\n",
      "\n",
      "\n",
      "[11:38:58] WARNING: /tmp/xgboost-20191007-44032-1f3rb3e/src/objective/regression_obj.cu:152: reg:linear is now deprecated in favor of reg:squarederror.\n",
      "[0]\tvalidation_0-mae:3.96303\n",
      "Will train until validation_0-mae hasn't improved in 5 rounds.\n",
      "[20]\tvalidation_0-mae:0.662411\n",
      "[40]\tvalidation_0-mae:0.452974\n",
      "[60]\tvalidation_0-mae:0.438701\n",
      "[80]\tvalidation_0-mae:0.433448\n",
      "[99]\tvalidation_0-mae:0.429965\n",
      "\n",
      "\n",
      "Evaluating model...\n",
      "The rmsle of prediction is: 55.837355751815764\n",
      "\n",
      "\n",
      "Predicting test set...\n",
      "\n",
      "\n",
      "[11:41:15] WARNING: /tmp/xgboost-20191007-44032-1f3rb3e/src/objective/regression_obj.cu:152: reg:linear is now deprecated in favor of reg:squarederror.\n",
      "[0]\tvalidation_0-mae:3.91896\n",
      "Will train until validation_0-mae hasn't improved in 5 rounds.\n",
      "[20]\tvalidation_0-mae:0.635807\n",
      "[40]\tvalidation_0-mae:0.422113\n",
      "[60]\tvalidation_0-mae:0.406307\n",
      "[80]\tvalidation_0-mae:0.401468\n",
      "[99]\tvalidation_0-mae:0.398692\n",
      "\n",
      "\n",
      "Evaluating model...\n",
      "The rmsle of prediction is: 51.841357106655174\n",
      "\n",
      "\n",
      "Predicting test set...\n",
      "\n",
      "\n",
      "Evaluation RMLSE: 54.60551228826148\n"
     ]
    }
   ],
   "source": [
    "metrics = []\n",
    "test_preds = []\n",
    "\n",
    "for train_index, valid_index in tscv.split(X, y):\n",
    "    X_train = X.loc[train_index].values\n",
    "    X_valid = X.loc[valid_index].values\n",
    "    \n",
    "    y_train = y.loc[train_index].values\n",
    "    y_valid = y.loc[valid_index].values\n",
    "        \n",
    "    gbm = xgb.XGBRegressor()\n",
    "    \n",
    "    gbm.fit(X_train, y_train, eval_set=[(X_valid, y_valid)], eval_metric='mae', early_stopping_rounds=5, verbose=20)\n",
    "    \n",
    "    print(\"\\n\")\n",
    "    print(\"Evaluating model...\")\n",
    "    y_pred = gbm.predict(X_valid)\n",
    "    y_pred = np.expm1(y_pred)\n",
    "    y_pred[y_pred < 0] = 0\n",
    "    \n",
    "    y_valid = np.expm1(y_valid)\n",
    "    metric = rmsle(y_valid, y_pred)[1]\n",
    "    metrics.append(metric)\n",
    "    print('The rmsle of prediction is:', metric)\n",
    "    print('\\n')\n",
    "    \n",
    "    print('Predicting test set...')\n",
    "    y_pred = gbm.predict(X_test)\n",
    "    y_pred = np.expm1(y_pred)\n",
    "    y_pred[y_pred < 0] = 0\n",
    "    test_preds.append(y_pred)\n",
    "    print('\\n')\n",
    "\n",
    "print('Evaluation RMLSE: {}'.format(np.mean(np.array(metrics))))"
   ]
  },
  {
   "cell_type": "markdown",
   "metadata": {},
   "source": [
    "<h3>Experiment summary</h3>\n",
    "\n",
    "No feature engineering / baseline: **98**<br/>\n",
    "Slight feature engineering: **96.8**<br/>\n",
    "Slight feature engineering + log target: **68.2**<br/>\n",
    "Lag feature engineering + log target: **67.1**<br/>\n",
    "Enhanced feature engineering + log target: **60.14**<br/>\n",
    "Final feature engineering + log target: **54.6**<br/>"
   ]
  },
  {
   "cell_type": "code",
   "execution_count": 20,
   "metadata": {},
   "outputs": [],
   "source": [
    "test_preds = np.array(test_preds)"
   ]
  },
  {
   "cell_type": "code",
   "execution_count": 21,
   "metadata": {},
   "outputs": [],
   "source": [
    "final_preds = np.mean(test_preds, axis=0)"
   ]
  },
  {
   "cell_type": "markdown",
   "metadata": {},
   "source": [
    "<h3>Inference</h3>"
   ]
  },
  {
   "cell_type": "code",
   "execution_count": 37,
   "metadata": {},
   "outputs": [],
   "source": [
    "test_df['num_orders']  = final_preds"
   ]
  },
  {
   "cell_type": "code",
   "execution_count": 38,
   "metadata": {},
   "outputs": [],
   "source": [
    "sub_df = pd.read_csv(SAMPLE_SUBMISSION)"
   ]
  },
  {
   "cell_type": "code",
   "execution_count": 39,
   "metadata": {},
   "outputs": [
    {
     "data": {
      "text/html": [
       "<div>\n",
       "<style scoped>\n",
       "    .dataframe tbody tr th:only-of-type {\n",
       "        vertical-align: middle;\n",
       "    }\n",
       "\n",
       "    .dataframe tbody tr th {\n",
       "        vertical-align: top;\n",
       "    }\n",
       "\n",
       "    .dataframe thead th {\n",
       "        text-align: right;\n",
       "    }\n",
       "</style>\n",
       "<table border=\"1\" class=\"dataframe\">\n",
       "  <thead>\n",
       "    <tr style=\"text-align: right;\">\n",
       "      <th></th>\n",
       "      <th>id</th>\n",
       "      <th>num_orders</th>\n",
       "    </tr>\n",
       "  </thead>\n",
       "  <tbody>\n",
       "    <tr>\n",
       "      <th>0</th>\n",
       "      <td>1028232</td>\n",
       "      <td>0</td>\n",
       "    </tr>\n",
       "    <tr>\n",
       "      <th>1</th>\n",
       "      <td>1127204</td>\n",
       "      <td>0</td>\n",
       "    </tr>\n",
       "    <tr>\n",
       "      <th>2</th>\n",
       "      <td>1212707</td>\n",
       "      <td>0</td>\n",
       "    </tr>\n",
       "    <tr>\n",
       "      <th>3</th>\n",
       "      <td>1082698</td>\n",
       "      <td>0</td>\n",
       "    </tr>\n",
       "    <tr>\n",
       "      <th>4</th>\n",
       "      <td>1400926</td>\n",
       "      <td>0</td>\n",
       "    </tr>\n",
       "  </tbody>\n",
       "</table>\n",
       "</div>"
      ],
      "text/plain": [
       "        id  num_orders\n",
       "0  1028232           0\n",
       "1  1127204           0\n",
       "2  1212707           0\n",
       "3  1082698           0\n",
       "4  1400926           0"
      ]
     },
     "execution_count": 39,
     "metadata": {},
     "output_type": "execute_result"
    }
   ],
   "source": [
    "sub_df.head()"
   ]
  },
  {
   "cell_type": "code",
   "execution_count": 43,
   "metadata": {},
   "outputs": [
    {
     "data": {
      "text/html": [
       "<div>\n",
       "<style scoped>\n",
       "    .dataframe tbody tr th:only-of-type {\n",
       "        vertical-align: middle;\n",
       "    }\n",
       "\n",
       "    .dataframe tbody tr th {\n",
       "        vertical-align: top;\n",
       "    }\n",
       "\n",
       "    .dataframe thead th {\n",
       "        text-align: right;\n",
       "    }\n",
       "</style>\n",
       "<table border=\"1\" class=\"dataframe\">\n",
       "  <thead>\n",
       "    <tr style=\"text-align: right;\">\n",
       "      <th></th>\n",
       "      <th>id</th>\n",
       "      <th>week</th>\n",
       "      <th>center_id</th>\n",
       "      <th>meal_id</th>\n",
       "      <th>checkout_price</th>\n",
       "      <th>base_price</th>\n",
       "      <th>emailer_for_promotion</th>\n",
       "      <th>homepage_featured</th>\n",
       "      <th>num_orders</th>\n",
       "      <th>category</th>\n",
       "      <th>...</th>\n",
       "      <th>has_been_promoted_52</th>\n",
       "      <th>has_been_featured_52</th>\n",
       "      <th>avg_num_orders_lag_52</th>\n",
       "      <th>std_num_orders_lag_52</th>\n",
       "      <th>min_num_orders_lag_52</th>\n",
       "      <th>max_num_orders_lag_52</th>\n",
       "      <th>num_orders_lag_52</th>\n",
       "      <th>base_over_checkout</th>\n",
       "      <th>center_meal_id</th>\n",
       "      <th>prom+homepage</th>\n",
       "    </tr>\n",
       "  </thead>\n",
       "  <tbody>\n",
       "    <tr>\n",
       "      <th>0</th>\n",
       "      <td>1379560</td>\n",
       "      <td>1</td>\n",
       "      <td>55</td>\n",
       "      <td>1885</td>\n",
       "      <td>136.83</td>\n",
       "      <td>152.29</td>\n",
       "      <td>0</td>\n",
       "      <td>0</td>\n",
       "      <td>170.510544</td>\n",
       "      <td>0</td>\n",
       "      <td>...</td>\n",
       "      <td>NaN</td>\n",
       "      <td>NaN</td>\n",
       "      <td>NaN</td>\n",
       "      <td>NaN</td>\n",
       "      <td>NaN</td>\n",
       "      <td>NaN</td>\n",
       "      <td>NaN</td>\n",
       "      <td>1.112987</td>\n",
       "      <td>2335</td>\n",
       "      <td>0</td>\n",
       "    </tr>\n",
       "    <tr>\n",
       "      <th>1</th>\n",
       "      <td>1466964</td>\n",
       "      <td>1</td>\n",
       "      <td>55</td>\n",
       "      <td>1993</td>\n",
       "      <td>136.83</td>\n",
       "      <td>135.83</td>\n",
       "      <td>0</td>\n",
       "      <td>0</td>\n",
       "      <td>170.693207</td>\n",
       "      <td>0</td>\n",
       "      <td>...</td>\n",
       "      <td>NaN</td>\n",
       "      <td>NaN</td>\n",
       "      <td>NaN</td>\n",
       "      <td>NaN</td>\n",
       "      <td>NaN</td>\n",
       "      <td>NaN</td>\n",
       "      <td>NaN</td>\n",
       "      <td>0.992692</td>\n",
       "      <td>2339</td>\n",
       "      <td>0</td>\n",
       "    </tr>\n",
       "    <tr>\n",
       "      <th>2</th>\n",
       "      <td>1346989</td>\n",
       "      <td>1</td>\n",
       "      <td>55</td>\n",
       "      <td>2539</td>\n",
       "      <td>134.86</td>\n",
       "      <td>135.86</td>\n",
       "      <td>0</td>\n",
       "      <td>0</td>\n",
       "      <td>168.402191</td>\n",
       "      <td>0</td>\n",
       "      <td>...</td>\n",
       "      <td>NaN</td>\n",
       "      <td>NaN</td>\n",
       "      <td>NaN</td>\n",
       "      <td>NaN</td>\n",
       "      <td>NaN</td>\n",
       "      <td>NaN</td>\n",
       "      <td>NaN</td>\n",
       "      <td>1.007415</td>\n",
       "      <td>2349</td>\n",
       "      <td>0</td>\n",
       "    </tr>\n",
       "    <tr>\n",
       "      <th>3</th>\n",
       "      <td>1338232</td>\n",
       "      <td>1</td>\n",
       "      <td>55</td>\n",
       "      <td>2139</td>\n",
       "      <td>339.50</td>\n",
       "      <td>437.53</td>\n",
       "      <td>0</td>\n",
       "      <td>0</td>\n",
       "      <td>52.458019</td>\n",
       "      <td>0</td>\n",
       "      <td>...</td>\n",
       "      <td>NaN</td>\n",
       "      <td>NaN</td>\n",
       "      <td>NaN</td>\n",
       "      <td>NaN</td>\n",
       "      <td>NaN</td>\n",
       "      <td>NaN</td>\n",
       "      <td>NaN</td>\n",
       "      <td>1.288748</td>\n",
       "      <td>2341</td>\n",
       "      <td>0</td>\n",
       "    </tr>\n",
       "    <tr>\n",
       "      <th>4</th>\n",
       "      <td>1448490</td>\n",
       "      <td>1</td>\n",
       "      <td>55</td>\n",
       "      <td>2631</td>\n",
       "      <td>243.50</td>\n",
       "      <td>242.50</td>\n",
       "      <td>0</td>\n",
       "      <td>0</td>\n",
       "      <td>90.828690</td>\n",
       "      <td>0</td>\n",
       "      <td>...</td>\n",
       "      <td>NaN</td>\n",
       "      <td>NaN</td>\n",
       "      <td>NaN</td>\n",
       "      <td>NaN</td>\n",
       "      <td>NaN</td>\n",
       "      <td>NaN</td>\n",
       "      <td>NaN</td>\n",
       "      <td>0.995893</td>\n",
       "      <td>2353</td>\n",
       "      <td>0</td>\n",
       "    </tr>\n",
       "  </tbody>\n",
       "</table>\n",
       "<p>5 rows × 93 columns</p>\n",
       "</div>"
      ],
      "text/plain": [
       "        id  week  center_id  meal_id  checkout_price  base_price  \\\n",
       "0  1379560     1         55     1885          136.83      152.29   \n",
       "1  1466964     1         55     1993          136.83      135.83   \n",
       "2  1346989     1         55     2539          134.86      135.86   \n",
       "3  1338232     1         55     2139          339.50      437.53   \n",
       "4  1448490     1         55     2631          243.50      242.50   \n",
       "\n",
       "   emailer_for_promotion  homepage_featured  num_orders  category  ...  \\\n",
       "0                      0                  0  170.510544         0  ...   \n",
       "1                      0                  0  170.693207         0  ...   \n",
       "2                      0                  0  168.402191         0  ...   \n",
       "3                      0                  0   52.458019         0  ...   \n",
       "4                      0                  0   90.828690         0  ...   \n",
       "\n",
       "   has_been_promoted_52  has_been_featured_52  avg_num_orders_lag_52  \\\n",
       "0                   NaN                   NaN                    NaN   \n",
       "1                   NaN                   NaN                    NaN   \n",
       "2                   NaN                   NaN                    NaN   \n",
       "3                   NaN                   NaN                    NaN   \n",
       "4                   NaN                   NaN                    NaN   \n",
       "\n",
       "   std_num_orders_lag_52  min_num_orders_lag_52  max_num_orders_lag_52  \\\n",
       "0                    NaN                    NaN                    NaN   \n",
       "1                    NaN                    NaN                    NaN   \n",
       "2                    NaN                    NaN                    NaN   \n",
       "3                    NaN                    NaN                    NaN   \n",
       "4                    NaN                    NaN                    NaN   \n",
       "\n",
       "   num_orders_lag_52  base_over_checkout  center_meal_id  prom+homepage  \n",
       "0                NaN            1.112987            2335              0  \n",
       "1                NaN            0.992692            2339              0  \n",
       "2                NaN            1.007415            2349              0  \n",
       "3                NaN            1.288748            2341              0  \n",
       "4                NaN            0.995893            2353              0  \n",
       "\n",
       "[5 rows x 93 columns]"
      ]
     },
     "execution_count": 43,
     "metadata": {},
     "output_type": "execute_result"
    }
   ],
   "source": [
    "test_df.head()"
   ]
  },
  {
   "cell_type": "code",
   "execution_count": null,
   "metadata": {},
   "outputs": [],
   "source": []
  }
 ],
 "metadata": {
  "kernelspec": {
   "display_name": "Python 3",
   "language": "python",
   "name": "python3"
  },
  "language_info": {
   "codemirror_mode": {
    "name": "ipython",
    "version": 3
   },
   "file_extension": ".py",
   "mimetype": "text/x-python",
   "name": "python",
   "nbconvert_exporter": "python",
   "pygments_lexer": "ipython3",
   "version": "3.6.4"
  }
 },
 "nbformat": 4,
 "nbformat_minor": 2
}
